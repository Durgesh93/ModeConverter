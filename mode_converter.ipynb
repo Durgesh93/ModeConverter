{
 "cells": [
  {
   "cell_type": "code",
   "execution_count": 1,
   "metadata": {},
   "outputs": [],
   "source": [
    "from modeconvertor.animation import test_movie\n",
    "from modeconvertor.movie import read_grayscale\n",
    "from modeconvertor.animation import MoviePlayer\n",
    "from modeconvertor import Converter,Cone\n",
    "import matplotlib.pyplot as plt\n",
    "import numpy as np\n",
    "# %matplotlib ipympl"
   ]
  },
  {
   "cell_type": "code",
   "execution_count": 2,
   "metadata": {},
   "outputs": [
    {
     "data": {
      "image/png": "[encoded data removed]",
      "text/plain": [
       "<Figure size 640x480 with 2 Axes>"
      ]
     },
     "metadata": {},
     "output_type": "display_data"
    }
   ],
   "source": [
    "\n",
    "mov = test_movie(100,256,256)\n",
    "def plot_hook(ax_b,ax_m,video):\n",
    "    SLcoords= np.array([[0,255],[255,0]])\n",
    "    mc = Converter(anchor_idx=len(video)//2,movies=video,SLcoords=SLcoords,SR=1,W=128,A=0,S=0,R=0)\n",
    "    amm = mc.amm()\n",
    "    \n",
    "    bSL = mc.perSL()\n",
    "    mSL = mc.mSL()\n",
    "    mpred_coords_y = np.array([80,120,150,200]).reshape(4,)\n",
    "    mpred_coords_x = np.full((4,),mc.mSLx())\n",
    "    mpred_coords   = np.stack([mpred_coords_y,mpred_coords_x],axis=-1)\n",
    "    bpred_coords   = mc.pred_bcoords(mpred_coords)\n",
    "\n",
    "    ax_m.imshow(amm,cmap='gray')\n",
    "    ax_b.scatter(bSL[:,1],bSL[:,0],marker='d',color='0.8')\n",
    "    ax_b.plot(bpred_coords[:,1],bpred_coords[:,0],'-x',color='red',markersize=10)\n",
    "\n",
    "    ax_m.scatter(mSL[:,1],mSL[:,0],marker='d',color='0.8')\n",
    "    ax_m.plot(mpred_coords[:,1],mpred_coords[:,0],'-x',color='red',markersize=10)\n",
    "    \n",
    "\n",
    "player = MoviePlayer(mov)\n",
    "player.register(plot_hook)\n",
    "player.play()"
   ]
  },
  {
   "cell_type": "code",
   "execution_count": 4,
   "metadata": {},
   "outputs": [
    {
     "name": "stderr",
     "output_type": "stream",
     "text": [
      "[ WARN:0@132.698] global /private/var/folders/k1/30mswbxs7r1g6zwn8y4fyt500000gp/T/abs_11nitadzeg/croot/opencv-suite_1691620374638/work/modules/videoio/src/cap_gstreamer.cpp (2386) handleMessage OpenCV | GStreamer warning: your GStreamer installation is missing a required plugin\n",
      "[ WARN:0@132.698] global /private/var/folders/k1/30mswbxs7r1g6zwn8y4fyt500000gp/T/abs_11nitadzeg/croot/opencv-suite_1691620374638/work/modules/videoio/src/cap_gstreamer.cpp (2402) handleMessage OpenCV | GStreamer warning: Embedded video playback halted; module uridecodebin0 reported: Your GStreamer installation is missing a plug-in.\n",
      "[ WARN:0@132.698] global /private/var/folders/k1/30mswbxs7r1g6zwn8y4fyt500000gp/T/abs_11nitadzeg/croot/opencv-suite_1691620374638/work/modules/videoio/src/cap_gstreamer.cpp (1356) open OpenCV | GStreamer warning: unable to start pipeline\n",
      "[ WARN:0@132.698] global /private/var/folders/k1/30mswbxs7r1g6zwn8y4fyt500000gp/T/abs_11nitadzeg/croot/opencv-suite_1691620374638/work/modules/videoio/src/cap_gstreamer.cpp (862) isPipelinePlaying OpenCV | GStreamer warning: GStreamer: pipeline have not been created\n"
     ]
    },
    {
     "data": {
      "image/png": "[encoded data removed]",
      "text/plain": [
       "<Figure size 640x480 with 2 Axes>"
      ]
     },
     "metadata": {},
     "output_type": "display_data"
    }
   ],
   "source": [
    "\n",
    "mov = read_grayscale('echotest.avi')\n",
    "def plot_hook(ax_b,ax_m,video):\n",
    "    c = Cone(video)\n",
    "    SLcoords = c.left(angle=30)\n",
    "    mc = Converter(anchor_idx=len(video)//2,movies=video,SLcoords=SLcoords,SR=1,W=128,A=0,S=0,R=0,num_pts=600)\n",
    "    amm = mc.amm()\n",
    "    \n",
    "    bSL = mc.perSL()\n",
    "    mSL = mc.mSL()\n",
    "    mpred_coords_y = np.array([200,300,400,500]).reshape(4,)\n",
    "    mpred_coords_x = np.full((4,),mc.mSLx())\n",
    "    mpred_coords   = np.stack([mpred_coords_y,mpred_coords_x],axis=-1)\n",
    "    bpred_coords   = mc.pred_bcoords(mpred_coords)\n",
    "\n",
    "    ax_m.imshow(amm,cmap='gray')\n",
    "    ax_b.scatter(bSL[:,1],bSL[:,0],marker='d',color='0.8')\n",
    "    ax_b.plot(bpred_coords[:,1],bpred_coords[:,0],'-x',color='red',markersize=10)\n",
    "\n",
    "    ax_m.scatter(mSL[:,1],mSL[:,0],marker='d',color='0.8')\n",
    "    ax_m.plot(mpred_coords[:,1],mpred_coords[:,0],'-x',color='red',markersize=10)\n",
    "    \n",
    "\n",
    "player = MoviePlayer(mov)\n",
    "player.register(plot_hook)\n",
    "player.play()"
   ]
  }
 ],
 "metadata": {
  "kernelspec": {
   "display_name": "workspace",
   "language": "python",
   "name": "python3"
  },
  "language_info": {
   "codemirror_mode": {
    "name": "ipython",
    "version": 3
   },
   "file_extension": ".py",
   "mimetype": "text/x-python",
   "name": "python",
   "nbconvert_exporter": "python",
   "pygments_lexer": "ipython3",
   "version": "3.11.9"
  }
 },
 "nbformat": 4,
 "nbformat_minor": 2
}
